{
 "cells": [
  {
   "cell_type": "markdown",
   "metadata": {},
   "source": [
    "# Pafy library is used to retrieve YouTube content and metadata."
   ]
  },
  {
   "cell_type": "code",
   "execution_count": 1,
   "metadata": {},
   "outputs": [],
   "source": [
    "import pafy"
   ]
  },
  {
   "cell_type": "markdown",
   "metadata": {},
   "source": [
    "Features of Pafy\n",
    "\n",
    "(i) Retrieve metadata such as viewcount, duration, rating, author, thumbnail, keywords.\n",
    "\n",
    "(ii) Download video or audio at requested resolution / bitrate / format / filesize\n",
    "\n",
    "(iii) Command line tool (ytdl) for downloading directly from the command line\n",
    "\n",
    "(iv) Download video only (no audio) in m4v or webm format\n",
    "\n",
    "(v) Download audio only (no video) in ogg or m4a format\n",
    "\n",
    "(vi) Works with Python 2.6+ and 3.3+\n",
    "\n",
    "(vii) Optionally depends on youtube-dl (recommended; more stable)"
   ]
  },
  {
   "cell_type": "code",
   "execution_count": 2,
   "metadata": {},
   "outputs": [],
   "source": [
    "url = 'https://www.youtube.com/watch?v=c07IsbSNqfI&feature=youtu.be'"
   ]
  },
  {
   "cell_type": "code",
   "execution_count": 3,
   "metadata": {},
   "outputs": [],
   "source": [
    "vPafy = pafy.new(url)"
   ]
  },
  {
   "cell_type": "code",
   "execution_count": 4,
   "metadata": {},
   "outputs": [
    {
     "data": {
      "text/plain": [
       "Title: Testing file uploads with Postman (multipart/form-data)\n",
       "Author: Valentin Despa\n",
       "ID: c07IsbSNqfI\n",
       "Duration: 00:28:08\n",
       "Rating: 4.7684212\n",
       "Views: 45714\n",
       "Thumbnail: http://i.ytimg.com/vi/c07IsbSNqfI/default.jpg"
      ]
     },
     "execution_count": 4,
     "metadata": {},
     "output_type": "execute_result"
    }
   ],
   "source": [
    "vPafy"
   ]
  },
  {
   "cell_type": "code",
   "execution_count": 6,
   "metadata": {
    "scrolled": true
   },
   "outputs": [
    {
     "name": "stdout",
     "output_type": "stream",
     "text": [
      "Testing file uploads with Postman (multipart/form-data)\n"
     ]
    }
   ],
   "source": [
    "print(vPafy.title)"
   ]
  },
  {
   "cell_type": "code",
   "execution_count": 7,
   "metadata": {},
   "outputs": [
    {
     "name": "stdout",
     "output_type": "stream",
     "text": [
      "4.7684212\n"
     ]
    }
   ],
   "source": [
    "print(vPafy.rating)"
   ]
  },
  {
   "cell_type": "code",
   "execution_count": 8,
   "metadata": {},
   "outputs": [
    {
     "name": "stdout",
     "output_type": "stream",
     "text": [
      "45714\n"
     ]
    }
   ],
   "source": [
    "print(vPafy.viewcount)"
   ]
  },
  {
   "cell_type": "code",
   "execution_count": 9,
   "metadata": {},
   "outputs": [
    {
     "name": "stdout",
     "output_type": "stream",
     "text": [
      "Valentin Despa\n"
     ]
    }
   ],
   "source": [
    "print(vPafy.author)"
   ]
  },
  {
   "cell_type": "code",
   "execution_count": 10,
   "metadata": {},
   "outputs": [
    {
     "name": "stdout",
     "output_type": "stream",
     "text": [
      "1688\n"
     ]
    }
   ],
   "source": [
    "print(vPafy.length)"
   ]
  },
  {
   "cell_type": "code",
   "execution_count": 11,
   "metadata": {
    "scrolled": true
   },
   "outputs": [
    {
     "name": "stdout",
     "output_type": "stream",
     "text": [
      "💥 Want to learn more about Postman? Check out my Postman online course. \n",
      "\n",
      "https://www.udemy.com/course/postman-the-complete-guide/?couponCode=6421441B322E61EF7720\n",
      "\n",
      "___\n",
      "\n",
      "// A B O U T  T H I S  V I D E O\n",
      "\n",
      "I will show you how to debug an upload script and demonstrate it with a tool called Postman that can make requests encoded as \"multipart/form-data\" so that you can send also a file.\n",
      "\n",
      "After this, we will go even further and write tests and begin automating the process.\n",
      "\n",
      "Here is the Git repository containing the files used in this tutorial:\n",
      "https://github.com/vdespa/postman-testing-file-uploads\n",
      "\n",
      "___\n",
      "\n",
      "// I  H A V E  A  Q U E S T I O N!\n",
      "\n",
      "I do my best to answer all comments here on YouTube but I cannot make any guarantees.\n",
      "\n",
      "If you have a question, it is best to ask your question on the Postman User Group on Facebook or on the Postman Community (links below). \n",
      "\n",
      "If you have purchased the Postman online course, please use the Q&A section or send me a message on Udemy. \n",
      "\n",
      "Please do not email me or contact me on other channels as I might not be able to answer. Sorry!\n",
      "\n",
      "___\n",
      "\n",
      "// I  H A V E  A  V I D E O  I D E A\n",
      "\n",
      "Do you want me to create a video on a specific topic? Just fill out the form below:\n",
      "\n",
      "https://forms.gle/uWEzXFQ2viJtZtvZ7\n",
      "\n",
      "___\n",
      "\n",
      "// P L A Y L I S T S\n",
      "\n",
      "Collection of video tutorials:\n",
      "\n",
      "▸ Learn Postman | http://bit.ly/2CFaf70\n",
      "\n",
      "▸ Postman Crash Course | http://bit.ly/2YwEBBT\n",
      "\n",
      "▸ Postman Tips & Tricks | http://bit.ly/2JLkXyU\n",
      "\n",
      "___\n",
      "\n",
      "// F R E E  R E S O U R C E S \n",
      "\n",
      "▸▸▸ DOWNLOAD the FREE Postman Quick Reference Guide\n",
      "http://bit.ly/postman-quick-reference-yt\n",
      "\n",
      "▸▸▸ JOIN the Postman User Group on Facebook\n",
      "http://bit.ly/2OutAMZ\n",
      "\n",
      "▸▸▸ OFFICIAL Postman community forum\n",
      "https://community.getpostman.com/\n",
      "\n",
      "___\n",
      "\n",
      "// IMPRINT\n",
      "\n",
      "https://vdespa.de/imprint\n",
      "\n",
      "___\n"
     ]
    }
   ],
   "source": [
    "print(vPafy.description)"
   ]
  },
  {
   "cell_type": "code",
   "execution_count": null,
   "metadata": {},
   "outputs": [],
   "source": []
  }
 ],
 "metadata": {
  "kernelspec": {
   "display_name": "Python 3",
   "language": "python",
   "name": "python3"
  },
  "language_info": {
   "codemirror_mode": {
    "name": "ipython",
    "version": 3
   },
   "file_extension": ".py",
   "mimetype": "text/x-python",
   "name": "python",
   "nbconvert_exporter": "python",
   "pygments_lexer": "ipython3",
   "version": "3.7.5"
  }
 },
 "nbformat": 4,
 "nbformat_minor": 2
}
